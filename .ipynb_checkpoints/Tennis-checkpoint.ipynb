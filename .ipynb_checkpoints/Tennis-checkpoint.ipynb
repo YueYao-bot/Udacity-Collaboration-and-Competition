{
 "cells": [
  {
   "cell_type": "code",
   "execution_count": null,
   "metadata": {},
   "outputs": [],
   "source": [
    "from unityagents import UnityEnvironment\n",
    "import numpy as np\n",
    "import torch\n",
    "import matplotlib.pyplot as plt\n",
    "from MADDPG import MADDPG"
   ]
  },
  {
   "cell_type": "code",
   "execution_count": null,
   "metadata": {},
   "outputs": [],
   "source": [
    "# get the default brain\n",
    "env = UnityEnvironment(file_name='./Tennis.app')\n",
    "brain_name = env.brain_names[0]\n",
    "brain = env.brains[brain_name]\n",
    "\n",
    "# reset the environment\n",
    "env_info = env.reset(train_mode=True)[brain_name]\n",
    "\n",
    "# number of agents\n",
    "num_agents = len(env_info.agents)\n",
    "print('Number of agents:', num_agents)\n",
    "\n",
    "# size of each action\n",
    "action_size = brain.vector_action_space_size\n",
    "print('Size of each action:', action_size)\n",
    "\n",
    "# examine the state space\n",
    "states = env_info.vector_observations\n",
    "state_size = states.shape[1]\n",
    "print('There are {} agents. Each observes a state with length: {}'.format(states.shape[0], state_size))\n",
    "print('The state for the first agent looks like:', states[0])"
   ]
  },
  {
   "cell_type": "code",
   "execution_count": null,
   "metadata": {},
   "outputs": [],
   "source": [
    "# initialize the env and the agent\n",
    "env_info = env.reset(train_mode=True)[brain_name]\n",
    "agent = MADDPG(state_size=state_size, action_size=action_size, seed=8)"
   ]
  },
  {
   "cell_type": "code",
   "execution_count": null,
   "metadata": {},
   "outputs": [],
   "source": [
    "scores = []  # initialize the score\n",
    "mean_scores = []\n",
    "\n",
    "train_mode = False\n",
    "\n",
    "if train_mode:\n",
    "    for i_eposide in range(3500):\n",
    "        env_info = env.reset(train_mode=True)[brain_name]\n",
    "        num_agents = len(env_info.agents)\n",
    "        states = env_info.vector_observations\n",
    "        episode_scores = np.zeros(num_agents)\n",
    "        time_step = 1\n",
    "        while True:\n",
    "            actions = agent.act(states)\n",
    "            env_info = env.step(actions)[brain_name]\n",
    "            next_states, rewards, dones = env_info.vector_observations, env_info.rewards, env_info.local_done\n",
    "\n",
    "            agent.step(states, actions, rewards, next_states, dones)\n",
    "            states = next_states\n",
    "            episode_scores += rewards\n",
    "            time_step +=1\n",
    "            if np.any(dones):\n",
    "                break\n",
    "\n",
    "        episode_max_score = np.max(episode_scores)\n",
    "        scores.append(episode_max_score)\n",
    "        mean_scores.append(np.mean(scores[-100:] if len(scores) >= 100 else 0))\n",
    "        print('\\rEpisode {}\\t Max Score: {:.2f}\\t Min Score: {:.2f}'.format(i_eposide, episode_max_score, np.min(episode_scores)))\n",
    "\n",
    "        if len(scores) > 100:\n",
    "            print('\\rEpisode {}\\t Score: {:.2f} \\t Avg Score: {:.2f}'.format(i_eposide, episode_max_score, np.mean(scores[-100:])))\n",
    "\n",
    "        if len(scores)>100 and np.mean(scores[-100:]) >= 1.0:\n",
    "            print('\\nEnvironment solved in {:d} episodes!\\tAverage Score over last 100 Episodes: {:.2f}'.format(i_eposide, np.mean(scores[-100:])))\n",
    "            agent.save()\n",
    "            plt.figure()\n",
    "            plt.plot(range(i_eposide+1), scores)\n",
    "            plt.plot(range(i_eposide + 1), mean_scores)\n",
    "            plt.xlabel(\"Episode\")\n",
    "            plt.ylabel(\"Score\")\n",
    "            plt.show()\n",
    "            break\n",
    "\n",
    "else:\n",
    "    agent.load()\n",
    "    for i_eposide in range(10):\n",
    "        env_info = env.reset(train_mode=False)[brain_name]\n",
    "        states = env_info.vector_observations\n",
    "        episode_scores = np.zeros(num_agents)  # initialize the score\n",
    "        print(i_eposide)\n",
    "        while True:\n",
    "            actions = agent.act(states)\n",
    "            env_info = env.step(actions)[brain_name]  # send the action to the environment\n",
    "            next_states = env_info.vector_observations  # get the next state\n",
    "            rewards = env_info.rewards  # get the reward\n",
    "            dones = env_info.local_done # see if episode has finished\n",
    "            episode_scores += rewards  # update the score\n",
    "            states = next_states  # roll over the state to next time step\n",
    "            if np.any(dones):  # exit loop if episode finished\n",
    "                print(\"Max Score: {:.2f} \\t Min Score: {:.2f}\".format(np.max(episode_scores), np.min(episode_scores)))"
   ]
  }
 ],
 "metadata": {
  "kernelspec": {
   "display_name": "Python 3",
   "language": "python",
   "name": "python3"
  },
  "language_info": {
   "codemirror_mode": {
    "name": "ipython",
    "version": 3
   },
   "file_extension": ".py",
   "mimetype": "text/x-python",
   "name": "python",
   "nbconvert_exporter": "python",
   "pygments_lexer": "ipython3",
   "version": "3.7.6"
  }
 },
 "nbformat": 4,
 "nbformat_minor": 4
}
